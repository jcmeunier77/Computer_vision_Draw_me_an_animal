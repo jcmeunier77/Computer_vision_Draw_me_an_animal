{
 "cells": [
  {
   "cell_type": "markdown",
   "metadata": {},
   "source": [
    "# CNN project with animal draws : data preparation and processing "
   ]
  },
  {
   "cell_type": "markdown",
   "metadata": {},
   "source": [
    "### Set up notebook"
   ]
  },
  {
   "cell_type": "markdown",
   "metadata": {},
   "source": [
    "Set up and activate gpu"
   ]
  },
  {
   "cell_type": "code",
   "execution_count": 1,
   "metadata": {},
   "outputs": [],
   "source": [
    "import tensorflow as tf\n",
    "gpus = tf.config.experimental.list_physical_devices('GPU')\n",
    "if gpus:\n",
    "    try:\n",
    "        for gpu in gpus:\n",
    "            tf.config.experimental.set_memory_growth(gpu, True)\n",
    "    except RuntimeError as e:\n",
    "        print(e)"
   ]
  },
  {
   "cell_type": "markdown",
   "metadata": {},
   "source": [
    "Import required libraries"
   ]
  },
  {
   "cell_type": "code",
   "execution_count": 2,
   "metadata": {},
   "outputs": [],
   "source": [
    "import pandas as pd\n",
    "import matplotlib.pyplot as plt\n",
    "import numpy as np\n",
    "from tensorflow.keras.callbacks import ModelCheckpoint, EarlyStopping\n",
    "from sklearn.model_selection import train_test_split\n",
    "from sklearn.metrics import confusion_matrix,classification_report,accuracy_score \n",
    "import itertools\n",
    "\n",
    "#import all the pieces of the neural network\n",
    "from tensorflow.keras.models import Sequential, Model, load_model#the model\n",
    "from tensorflow.keras.layers import Dense, Dropout, Activation, Flatten, Input #fully connected layers\n",
    "from tensorflow.keras.layers import Convolution2D, MaxPooling2D #the convnet\n",
    "from tensorflow.keras.callbacks import ModelCheckpoint\n",
    "from tensorflow.keras.applications.vgg16 import VGG16\n",
    "from tensorflow.keras import layers, models\n"
   ]
  },
  {
   "cell_type": "markdown",
   "metadata": {},
   "source": [
    "### Import datasets"
   ]
  },
  {
   "cell_type": "code",
   "execution_count": 4,
   "metadata": {},
   "outputs": [],
   "source": [
    "bear_dataset = pd.read_json('assets/full_simplified_bear.ndjson', lines=True)\n",
    "bee_dataset = pd.read_json('assets/full_simplified_bee.ndjson', lines=True)\n",
    "bird_dataset = pd.read_json('assets/full_simplified_bird.ndjson', lines=True)\n",
    "butterfly_dataset = pd.read_json('assets/full_simplified_butterfly.ndjson', lines=True)\n",
    "camel_dataset = pd.read_json('assets/full_simplified_camel.ndjson', lines=True)\n",
    "cat_dataset = pd.read_json('assets/full_simplified_cat.ndjson', lines=True)"
   ]
  },
  {
   "cell_type": "code",
   "execution_count": 5,
   "metadata": {},
   "outputs": [],
   "source": [
    "cow_dataset = pd.read_json('assets/full_simplified_cow.ndjson', lines=True)\n",
    "crab_dataset = pd.read_json('assets/full_simplified_crab.ndjson', lines=True)\n",
    "crocodile_dataset = pd.read_json('assets/full_simplified_crocodile.ndjson', lines=True)\n",
    "dog_dataset = pd.read_json('assets/full_simplified_dog.ndjson', lines=True)\n",
    "dolphin_dataset = pd.read_json('assets/full_simplified_dolphin.ndjson', lines=True)\n",
    "elephant_dataset = pd.read_json('assets/full_simplified_elephant.ndjson', lines=True)"
   ]
  },
  {
   "cell_type": "code",
   "execution_count": 4,
   "metadata": {},
   "outputs": [],
   "source": [
    "frog_dataset = pd.read_json('assets/full_simplified_frog.ndjson', lines=True)\n",
    "giraffe_dataset = pd.read_json('assets/full_simplified_giraffe.ndjson', lines=True)\n",
    "horse_dataset = pd.read_json('assets/full_simplified_horse.ndjson', lines=True)\n",
    "kangaroo_dataset = pd.read_json('assets/full_simplified_kangaroo.ndjson', lines=True)\n",
    "lion_dataset = pd.read_json('assets/full_simplified_lion.ndjson', lines=True)\n",
    "lobster_dataset = pd.read_json('assets/full_simplified_lobster.ndjson', lines=True)"
   ]
  },
  {
   "cell_type": "code",
   "execution_count": 5,
   "metadata": {},
   "outputs": [],
   "source": [
    "monkey_dataset = pd.read_json('assets/full_simplified_monkey.ndjson', lines=True)\n",
    "mosquito_dataset = pd.read_json('assets/full_simplified_mosquito.ndjson', lines=True)\n",
    "mouse_dataset = pd.read_json('assets/full_simplified_mouse.ndjson', lines=True)\n",
    "octopus_dataset = pd.read_json('assets/full_simplified_octopus.ndjson', lines=True)\n",
    "owl_dataset = pd.read_json('assets/full_simplified_owl.ndjson', lines=True)\n",
    "panda_dataset = pd.read_json('assets/full_simplified_panda.ndjson', lines=True)"
   ]
  },
  {
   "cell_type": "code",
   "execution_count": 6,
   "metadata": {},
   "outputs": [],
   "source": [
    "parrot_dataset = pd.read_json('assets/full_simplified_parrot.ndjson', lines=True)\n",
    "penguin_dataset = pd.read_json('assets/full_simplified_penguin.ndjson', lines=True)\n",
    "pig_dataset = pd.read_json('assets/full_simplified_pig.ndjson', lines=True)\n",
    "rabbit_dataset = pd.read_json('assets/full_simplified_rabbit.ndjson', lines=True)\n",
    "raccoon_dataset = pd.read_json('assets/full_simplified_raccoon.ndjson', lines=True)\n",
    "rhinoceros_dataset = pd.read_json('assets/full_simplified_rhinoceros.ndjson', lines=True)"
   ]
  },
  {
   "cell_type": "code",
   "execution_count": 7,
   "metadata": {},
   "outputs": [],
   "source": [
    "scorpion_dataset = pd.read_json('assets/full_simplified_scorpion.ndjson', lines=True)\n",
    "sea_turtle_dataset = pd.read_json('assets/full_simplified_sea turtle.ndjson', lines=True)\n",
    "sheep_dataset = pd.read_json('assets/full_simplified_sheep.ndjson', lines=True)\n",
    "snail_dataset = pd.read_json('assets/full_simplified_snail.ndjson', lines=True)\n",
    "snake_dataset = pd.read_json('assets/full_simplified_snake.ndjson', lines=True)\n",
    "spider_dataset = pd.read_json('assets/full_simplified_spider.ndjson', lines=True)"
   ]
  },
  {
   "cell_type": "code",
   "execution_count": 8,
   "metadata": {},
   "outputs": [],
   "source": [
    "squirrel_dataset = pd.read_json('assets/full_simplified_squirrel.ndjson', lines=True)\n",
    "swan_dataset = pd.read_json('assets/full_simplified_swan.ndjson', lines=True)\n",
    "tiger_dataset = pd.read_json('assets/full_simplified_tiger.ndjson', lines=True)\n",
    "whale_dataset = pd.read_json('assets/full_simplified_whale.ndjson', lines=True)"
   ]
  },
  {
   "cell_type": "markdown",
   "metadata": {},
   "source": [
    "### Preprocessing the data"
   ]
  },
  {
   "cell_type": "markdown",
   "metadata": {},
   "source": [
    "Functions for preprocessing images"
   ]
  },
  {
   "cell_type": "code",
   "execution_count": 9,
   "metadata": {},
   "outputs": [],
   "source": [
    "def doodle_to_raster(doodle: list):\n",
    "    input_size = 256\n",
    "    output_size = 64\n",
    "    raster = np.zeros((output_size, output_size), dtype='uint8')\n",
    "    for stroke in doodle:\n",
    "        raster += stroke_to_raster(stroke, input_size, output_size)\n",
    "    raster = raster.clip(0, 1)\n",
    "    return raster\n",
    "            \n",
    "            \n",
    "def stroke_to_raster(stroke: list, input_size: int, output_size: int):\n",
    "    raster = np.zeros((output_size, output_size), dtype='uint8')\n",
    "    for i in range(0, len(stroke[0])-1):\n",
    "        start_point = np.array([stroke[0][i], stroke[1][i]])\n",
    "        start_point = rescale_point(start_point, input_size, output_size)\n",
    "        end_point = np.array([stroke[0][i+1], stroke[1][i+1]])\n",
    "        end_point = rescale_point(end_point, input_size, output_size)\n",
    "        discretised_line = discretise_line(start_point, end_point)\n",
    "        raster += line_to_raster(discretised_line, output_size)\n",
    "    return raster\n",
    "            \n",
    "            \n",
    "def line_to_raster(line: list, output_size: int):\n",
    "    raster = np.zeros((output_size, output_size), dtype='uint8')\n",
    "    for point_index in range(0, line.shape[0]):\n",
    "        point = line[point_index, :]\n",
    "        raster[int(min(output_size-1,point[1])), int(min(output_size-1,point[0]))] = 1\n",
    "    return raster\n",
    "\n",
    "\n",
    "def discretise_line(start_point: list, end_point: list):\n",
    "    points = np.empty((0,2), dtype='uint8')\n",
    "    discrete_length = calculate_discrete_length(start_point, end_point)\n",
    "    for step in range(0, discrete_length + 1):\n",
    "        segment_fraction = 0.0 if discrete_length == 0 else step/float(discrete_length)\n",
    "        points = np.vstack((points, round_point(interpolate_point(start_point, end_point, segment_fraction))))\n",
    "    return points\n",
    "        \n",
    "    \n",
    "def calculate_discrete_length(start_point: list, end_point: list):\n",
    "    start_point = round_point(start_point)\n",
    "    end_point = round_point(end_point)\n",
    "    delta_x = end_point[0] - start_point[0]\n",
    "    delta_y = end_point[1] - start_point[1]\n",
    "    return max(abs(delta_x), abs(delta_y))\n",
    "\n",
    "\n",
    "def round_point(point: list):\n",
    "    return np.array([round(point[0]), round(point[1])])\n",
    "\n",
    "\n",
    "def rescale_point(point: list, input_size: int, output_size: int):\n",
    "    factor = float(input_size)/float(output_size)\n",
    "    return np.array([round(float(point[0])/factor), round(float(point[1])/factor)])\n",
    "\n",
    "\n",
    "def interpolate_point(start_point: list, end_point: list, segment_fraction: float):\n",
    "    return np.array([interpolate(start_point[0], end_point[0], segment_fraction), \n",
    "                   interpolate(start_point[1], end_point[1], segment_fraction)])\n",
    "\n",
    "def interpolate(start: float, end: float, segment_fraction: float):\n",
    "    return start + segment_fraction*(end - start)"
   ]
  },
  {
   "cell_type": "markdown",
   "metadata": {},
   "source": [
    "#### 1 to 10"
   ]
  },
  {
   "cell_type": "markdown",
   "metadata": {},
   "source": [
    "file name : \n",
    "bear.npy\n",
    "bee.npy\n",
    "bird.npy\n",
    "butterfly.npy\n",
    "camel.npy\n",
    "cat.npy\n",
    "cow.npy\n",
    "crab.npy\n",
    "crocodile.npy\n",
    "dog.npy"
   ]
  },
  {
   "cell_type": "markdown",
   "metadata": {},
   "source": [
    "bear"
   ]
  },
  {
   "cell_type": "code",
   "execution_count": 162,
   "metadata": {},
   "outputs": [
    {
     "data": {
      "text/plain": [
       "(134762, 6)"
      ]
     },
     "execution_count": 162,
     "metadata": {},
     "output_type": "execute_result"
    }
   ],
   "source": [
    "bear_dataset.shape"
   ]
  },
  {
   "cell_type": "code",
   "execution_count": 163,
   "metadata": {},
   "outputs": [],
   "source": [
    "preprocessed_bear = bear_dataset['drawing'].iloc[0:20000].apply(doodle_to_raster)\n",
    "bear_labels = np.zeros((20000, 1))"
   ]
  },
  {
   "cell_type": "code",
   "execution_count": 164,
   "metadata": {},
   "outputs": [],
   "source": [
    "preprocessed_bear_dataset = pd.DataFrame(preprocessed_bear)\n",
    "preprocessed_bear_dataset.insert(1, \"label\", bear_labels)"
   ]
  },
  {
   "cell_type": "code",
   "execution_count": 165,
   "metadata": {},
   "outputs": [],
   "source": [
    "np_bear = preprocessed_bear_dataset.to_numpy()\n",
    "np.save('bear.npy', np_bear)"
   ]
  },
  {
   "cell_type": "markdown",
   "metadata": {},
   "source": [
    "bee"
   ]
  },
  {
   "cell_type": "code",
   "execution_count": 166,
   "metadata": {},
   "outputs": [
    {
     "data": {
      "text/plain": [
       "(120890, 6)"
      ]
     },
     "execution_count": 166,
     "metadata": {},
     "output_type": "execute_result"
    }
   ],
   "source": [
    "bee_dataset.shape"
   ]
  },
  {
   "cell_type": "code",
   "execution_count": 167,
   "metadata": {},
   "outputs": [],
   "source": [
    "preprocessed_bee = bee_dataset['drawing'].iloc[0:20000].apply(doodle_to_raster)\n",
    "bee_labels = np.ones((20000, 1))"
   ]
  },
  {
   "cell_type": "code",
   "execution_count": 168,
   "metadata": {},
   "outputs": [],
   "source": [
    "preprocessed_bee_dataset = pd.DataFrame(preprocessed_bee)\n",
    "preprocessed_bee_dataset.insert(1, \"label\", bee_labels)"
   ]
  },
  {
   "cell_type": "code",
   "execution_count": 169,
   "metadata": {},
   "outputs": [],
   "source": [
    "np_bee = preprocessed_bee_dataset.to_numpy()\n",
    "np.save('bee.npy', np_bee)"
   ]
  },
  {
   "cell_type": "markdown",
   "metadata": {},
   "source": [
    "bird"
   ]
  },
  {
   "cell_type": "code",
   "execution_count": 170,
   "metadata": {},
   "outputs": [
    {
     "data": {
      "text/plain": [
       "(133572, 6)"
      ]
     },
     "execution_count": 170,
     "metadata": {},
     "output_type": "execute_result"
    }
   ],
   "source": [
    "bird_dataset.shape"
   ]
  },
  {
   "cell_type": "code",
   "execution_count": 171,
   "metadata": {},
   "outputs": [],
   "source": [
    "preprocessed_bird = bird_dataset['drawing'].iloc[0:20000].apply(doodle_to_raster)\n",
    "bird_labels = np.full((20000, 1),2)"
   ]
  },
  {
   "cell_type": "code",
   "execution_count": 172,
   "metadata": {},
   "outputs": [],
   "source": [
    "preprocessed_bird_dataset = pd.DataFrame(preprocessed_bird)\n",
    "preprocessed_bird_dataset.insert(1, \"label\", bird_labels)"
   ]
  },
  {
   "cell_type": "code",
   "execution_count": 173,
   "metadata": {},
   "outputs": [],
   "source": [
    "np_bird = preprocessed_bird_dataset.to_numpy()\n",
    "np.save('bird.npy', np_bird)"
   ]
  },
  {
   "cell_type": "markdown",
   "metadata": {},
   "source": [
    "butterfly"
   ]
  },
  {
   "cell_type": "code",
   "execution_count": 174,
   "metadata": {},
   "outputs": [
    {
     "data": {
      "text/plain": [
       "(117999, 6)"
      ]
     },
     "execution_count": 174,
     "metadata": {},
     "output_type": "execute_result"
    }
   ],
   "source": [
    "butterfly_dataset.shape"
   ]
  },
  {
   "cell_type": "code",
   "execution_count": 175,
   "metadata": {},
   "outputs": [],
   "source": [
    "preprocessed_butterfly = butterfly_dataset['drawing'].iloc[0:20000].apply(doodle_to_raster)\n",
    "butterfly_labels = np.full((20000, 1),3)"
   ]
  },
  {
   "cell_type": "code",
   "execution_count": 176,
   "metadata": {},
   "outputs": [],
   "source": [
    "preprocessed_butterfly_dataset = pd.DataFrame(preprocessed_butterfly)\n",
    "preprocessed_butterfly_dataset.insert(1, \"label\", butterfly_labels)"
   ]
  },
  {
   "cell_type": "code",
   "execution_count": 177,
   "metadata": {},
   "outputs": [],
   "source": [
    "np_butterfly = preprocessed_butterfly_dataset.to_numpy()\n",
    "np.save('butterfly.npy', np_butterfly)"
   ]
  },
  {
   "cell_type": "markdown",
   "metadata": {},
   "source": [
    "camel"
   ]
  },
  {
   "cell_type": "code",
   "execution_count": 178,
   "metadata": {},
   "outputs": [
    {
     "data": {
      "text/plain": [
       "(121399, 6)"
      ]
     },
     "execution_count": 178,
     "metadata": {},
     "output_type": "execute_result"
    }
   ],
   "source": [
    "camel_dataset.shape "
   ]
  },
  {
   "cell_type": "code",
   "execution_count": 179,
   "metadata": {},
   "outputs": [],
   "source": [
    "preprocessed_camel = camel_dataset['drawing'].iloc[0:20000].apply(doodle_to_raster)\n",
    "camel_labels = np.full((20000, 1),4)"
   ]
  },
  {
   "cell_type": "code",
   "execution_count": 180,
   "metadata": {},
   "outputs": [],
   "source": [
    "preprocessed_camel_dataset = pd.DataFrame(preprocessed_camel)\n",
    "preprocessed_camel_dataset.insert(1, \"label\", camel_labels)"
   ]
  },
  {
   "cell_type": "code",
   "execution_count": 181,
   "metadata": {},
   "outputs": [],
   "source": [
    "np_camel = preprocessed_camel_dataset.to_numpy()\n",
    "np.save('camel.npy', np_camel)"
   ]
  },
  {
   "cell_type": "markdown",
   "metadata": {},
   "source": [
    "cat"
   ]
  },
  {
   "cell_type": "code",
   "execution_count": 182,
   "metadata": {},
   "outputs": [
    {
     "data": {
      "text/plain": [
       "(123202, 6)"
      ]
     },
     "execution_count": 182,
     "metadata": {},
     "output_type": "execute_result"
    }
   ],
   "source": [
    "cat_dataset.shape"
   ]
  },
  {
   "cell_type": "code",
   "execution_count": 183,
   "metadata": {},
   "outputs": [],
   "source": [
    "preprocessed_cat = cat_dataset['drawing'].iloc[0:20000].apply(doodle_to_raster)\n",
    "cat_labels = np.full((20000, 1),5)\n"
   ]
  },
  {
   "cell_type": "code",
   "execution_count": 184,
   "metadata": {},
   "outputs": [],
   "source": [
    "preprocessed_cat_dataset = pd.DataFrame(preprocessed_cat)\n",
    "preprocessed_cat_dataset.insert(1, \"label\", cat_labels)"
   ]
  },
  {
   "cell_type": "code",
   "execution_count": 185,
   "metadata": {},
   "outputs": [],
   "source": [
    "np_cat = preprocessed_cat_dataset.to_numpy()\n",
    "np.save('cat.npy', np_cat)"
   ]
  },
  {
   "cell_type": "markdown",
   "metadata": {},
   "source": [
    "cow"
   ]
  },
  {
   "cell_type": "code",
   "execution_count": 186,
   "metadata": {},
   "outputs": [
    {
     "data": {
      "text/plain": [
       "(123083, 6)"
      ]
     },
     "execution_count": 186,
     "metadata": {},
     "output_type": "execute_result"
    }
   ],
   "source": [
    "cow_dataset.shape"
   ]
  },
  {
   "cell_type": "code",
   "execution_count": 187,
   "metadata": {},
   "outputs": [],
   "source": [
    "preprocessed_cow = cow_dataset['drawing'].iloc[0:20000].apply(doodle_to_raster)\n",
    "cow_labels = np.full((20000, 1),6)"
   ]
  },
  {
   "cell_type": "code",
   "execution_count": 188,
   "metadata": {},
   "outputs": [],
   "source": [
    "preprocessed_cow_dataset = pd.DataFrame(preprocessed_cow)\n",
    "preprocessed_cow_dataset.insert(1, \"label\", cow_labels)"
   ]
  },
  {
   "cell_type": "code",
   "execution_count": 189,
   "metadata": {},
   "outputs": [],
   "source": [
    "np_cow = preprocessed_cow_dataset.to_numpy()\n",
    "np.save('cow.npy', np_cow)"
   ]
  },
  {
   "cell_type": "markdown",
   "metadata": {},
   "source": [
    "crab"
   ]
  },
  {
   "cell_type": "code",
   "execution_count": 190,
   "metadata": {},
   "outputs": [
    {
     "data": {
      "text/plain": [
       "(126930, 6)"
      ]
     },
     "execution_count": 190,
     "metadata": {},
     "output_type": "execute_result"
    }
   ],
   "source": [
    "crab_dataset.shape"
   ]
  },
  {
   "cell_type": "code",
   "execution_count": 191,
   "metadata": {},
   "outputs": [],
   "source": [
    "preprocessed_crab = crab_dataset['drawing'].iloc[0:20000].apply(doodle_to_raster)\n",
    "crab_labels = np.full((20000, 1),7)"
   ]
  },
  {
   "cell_type": "code",
   "execution_count": 192,
   "metadata": {},
   "outputs": [],
   "source": [
    "preprocessed_crab_dataset = pd.DataFrame(preprocessed_crab)\n",
    "preprocessed_crab_dataset.insert(1, \"label\", crab_labels)"
   ]
  },
  {
   "cell_type": "code",
   "execution_count": 193,
   "metadata": {},
   "outputs": [],
   "source": [
    "np_crab = preprocessed_crab_dataset.to_numpy()\n",
    "np.save('crab.npy', np_crab)"
   ]
  },
  {
   "cell_type": "markdown",
   "metadata": {},
   "source": [
    "crododile"
   ]
  },
  {
   "cell_type": "code",
   "execution_count": 194,
   "metadata": {},
   "outputs": [
    {
     "data": {
      "text/plain": [
       "(127932, 6)"
      ]
     },
     "execution_count": 194,
     "metadata": {},
     "output_type": "execute_result"
    }
   ],
   "source": [
    "crocodile_dataset.shape"
   ]
  },
  {
   "cell_type": "code",
   "execution_count": 195,
   "metadata": {},
   "outputs": [],
   "source": [
    "preprocessed_crocodile = crocodile_dataset['drawing'].iloc[0:20000].apply(doodle_to_raster)\n",
    "crocodile_labels = np.full((20000, 1),8)\n"
   ]
  },
  {
   "cell_type": "code",
   "execution_count": 196,
   "metadata": {},
   "outputs": [],
   "source": [
    "preprocessed_crocodile_dataset = pd.DataFrame(preprocessed_crocodile)\n",
    "preprocessed_crocodile_dataset.insert(1, \"label\", crocodile_labels)"
   ]
  },
  {
   "cell_type": "code",
   "execution_count": 197,
   "metadata": {},
   "outputs": [],
   "source": [
    "np_crocodile = preprocessed_crocodile_dataset.to_numpy()\n",
    "np.save('crocodile.npy', np_crocodile)"
   ]
  },
  {
   "cell_type": "markdown",
   "metadata": {},
   "source": [
    "dog"
   ]
  },
  {
   "cell_type": "code",
   "execution_count": 198,
   "metadata": {},
   "outputs": [
    {
     "data": {
      "text/plain": [
       "(152159, 6)"
      ]
     },
     "execution_count": 198,
     "metadata": {},
     "output_type": "execute_result"
    }
   ],
   "source": [
    "dog_dataset.shape"
   ]
  },
  {
   "cell_type": "code",
   "execution_count": 199,
   "metadata": {},
   "outputs": [],
   "source": [
    "preprocessed_dog = dog_dataset['drawing'].iloc[0:20000].apply(doodle_to_raster)\n",
    "dog_labels = np.full((20000, 1),9)\n"
   ]
  },
  {
   "cell_type": "code",
   "execution_count": 200,
   "metadata": {},
   "outputs": [],
   "source": [
    "preprocessed_dog_dataset = pd.DataFrame(preprocessed_dog)\n",
    "preprocessed_dog_dataset.insert(1, \"label\", dog_labels)"
   ]
  },
  {
   "cell_type": "code",
   "execution_count": 201,
   "metadata": {},
   "outputs": [],
   "source": [
    "np_dog = preprocessed_dog_dataset.to_numpy()\n",
    "np.save('dog.npy', np_dog)"
   ]
  },
  {
   "cell_type": "markdown",
   "metadata": {},
   "source": [
    "#### 11 to 20"
   ]
  },
  {
   "cell_type": "markdown",
   "metadata": {},
   "source": [
    "file names : \n",
    "dolphin.npy\n",
    "elephant.npy\n",
    "frog.npy\n",
    "giraffe.npy\n",
    "horse.npy\n",
    "kangaroo.npy\n",
    "lion.npy\n",
    "lobster.npy\n",
    "monkey.npy\n",
    "mosquito.npy"
   ]
  },
  {
   "cell_type": "markdown",
   "metadata": {},
   "source": [
    "dolphin"
   ]
  },
  {
   "cell_type": "code",
   "execution_count": 202,
   "metadata": {},
   "outputs": [
    {
     "data": {
      "text/plain": [
       "(121613, 6)"
      ]
     },
     "execution_count": 202,
     "metadata": {},
     "output_type": "execute_result"
    }
   ],
   "source": [
    "dolphin_dataset.shape"
   ]
  },
  {
   "cell_type": "code",
   "execution_count": 203,
   "metadata": {},
   "outputs": [],
   "source": [
    "preprocessed_dolphin = dolphin_dataset['drawing'].iloc[0:20000].apply(doodle_to_raster)\n",
    "dolphin_labels = np.full((20000, 1),10)\n"
   ]
  },
  {
   "cell_type": "code",
   "execution_count": 204,
   "metadata": {},
   "outputs": [],
   "source": [
    "preprocessed_dolphin_dataset = pd.DataFrame(preprocessed_dolphin)\n",
    "preprocessed_dolphin_dataset.insert(1, \"label\", dolphin_labels)"
   ]
  },
  {
   "cell_type": "code",
   "execution_count": 205,
   "metadata": {},
   "outputs": [],
   "source": [
    "np_dolphin = preprocessed_dolphin_dataset.to_numpy()\n",
    "np.save('dolphin.npy', np_dolphin)"
   ]
  },
  {
   "cell_type": "markdown",
   "metadata": {},
   "source": [
    "elephant"
   ]
  },
  {
   "cell_type": "code",
   "execution_count": 206,
   "metadata": {},
   "outputs": [
    {
     "data": {
      "text/plain": [
       "(126969, 6)"
      ]
     },
     "execution_count": 206,
     "metadata": {},
     "output_type": "execute_result"
    }
   ],
   "source": [
    "elephant_dataset.shape"
   ]
  },
  {
   "cell_type": "code",
   "execution_count": 207,
   "metadata": {},
   "outputs": [],
   "source": [
    "preprocessed_elephant = elephant_dataset['drawing'].iloc[0:20000].apply(doodle_to_raster)\n",
    "elephant_labels = np.full((20000, 1),11)\n"
   ]
  },
  {
   "cell_type": "code",
   "execution_count": 208,
   "metadata": {},
   "outputs": [],
   "source": [
    "preprocessed_elephant_dataset = pd.DataFrame(preprocessed_elephant)\n",
    "preprocessed_elephant_dataset.insert(1, \"label\", elephant_labels)"
   ]
  },
  {
   "cell_type": "code",
   "execution_count": 209,
   "metadata": {},
   "outputs": [],
   "source": [
    "np_elephant = preprocessed_elephant_dataset.to_numpy()\n",
    "np.save('elephant.npy', np_elephant)"
   ]
  },
  {
   "cell_type": "markdown",
   "metadata": {},
   "source": [
    "frog"
   ]
  },
  {
   "cell_type": "code",
   "execution_count": 210,
   "metadata": {},
   "outputs": [
    {
     "data": {
      "text/plain": [
       "(159047, 6)"
      ]
     },
     "execution_count": 210,
     "metadata": {},
     "output_type": "execute_result"
    }
   ],
   "source": [
    "frog_dataset.shape"
   ]
  },
  {
   "cell_type": "code",
   "execution_count": 211,
   "metadata": {},
   "outputs": [],
   "source": [
    "preprocessed_frog = frog_dataset['drawing'].iloc[0:20000].apply(doodle_to_raster)\n",
    "frog_labels = np.full((20000, 1),12)\n"
   ]
  },
  {
   "cell_type": "code",
   "execution_count": 212,
   "metadata": {},
   "outputs": [],
   "source": [
    "preprocessed_frog_dataset = pd.DataFrame(preprocessed_frog)\n",
    "preprocessed_frog_dataset.insert(1, \"label\", frog_labels)"
   ]
  },
  {
   "cell_type": "code",
   "execution_count": 213,
   "metadata": {},
   "outputs": [],
   "source": [
    "np_frog = preprocessed_frog_dataset.to_numpy()\n",
    "np.save('frog.npy', np_frog)"
   ]
  },
  {
   "cell_type": "markdown",
   "metadata": {},
   "source": [
    "giraffe"
   ]
  },
  {
   "cell_type": "code",
   "execution_count": 214,
   "metadata": {},
   "outputs": [
    {
     "data": {
      "text/plain": [
       "(127182, 6)"
      ]
     },
     "execution_count": 214,
     "metadata": {},
     "output_type": "execute_result"
    }
   ],
   "source": [
    "giraffe_dataset.shape"
   ]
  },
  {
   "cell_type": "code",
   "execution_count": 215,
   "metadata": {},
   "outputs": [],
   "source": [
    "preprocessed_giraffe = giraffe_dataset['drawing'].iloc[0:20000].apply(doodle_to_raster)\n",
    "giraffe_labels = np.full((20000, 1),13)\n"
   ]
  },
  {
   "cell_type": "code",
   "execution_count": 216,
   "metadata": {},
   "outputs": [],
   "source": [
    "preprocessed_giraffe_dataset = pd.DataFrame(preprocessed_giraffe)\n",
    "preprocessed_giraffe_dataset.insert(1, \"label\", giraffe_labels)"
   ]
  },
  {
   "cell_type": "code",
   "execution_count": 217,
   "metadata": {},
   "outputs": [],
   "source": [
    "np_giraffe = preprocessed_giraffe_dataset.to_numpy()\n",
    "np.save('giraffe.npy', np_giraffe)"
   ]
  },
  {
   "cell_type": "markdown",
   "metadata": {},
   "source": [
    "horse"
   ]
  },
  {
   "cell_type": "code",
   "execution_count": 218,
   "metadata": {},
   "outputs": [
    {
     "data": {
      "text/plain": [
       "(178286, 6)"
      ]
     },
     "execution_count": 218,
     "metadata": {},
     "output_type": "execute_result"
    }
   ],
   "source": [
    "horse_dataset.shape"
   ]
  },
  {
   "cell_type": "code",
   "execution_count": 219,
   "metadata": {},
   "outputs": [],
   "source": [
    "preprocessed_horse = horse_dataset['drawing'].iloc[0:20000].apply(doodle_to_raster)\n",
    "horse_labels = np.full((20000, 1),14)\n"
   ]
  },
  {
   "cell_type": "code",
   "execution_count": 220,
   "metadata": {},
   "outputs": [],
   "source": [
    "preprocessed_horse_dataset = pd.DataFrame(preprocessed_horse)\n",
    "preprocessed_horse_dataset.insert(1, \"label\", horse_labels)"
   ]
  },
  {
   "cell_type": "code",
   "execution_count": 221,
   "metadata": {},
   "outputs": [],
   "source": [
    "np_horse = preprocessed_horse_dataset.to_numpy()\n",
    "np.save('horse.npy', np_horse)"
   ]
  },
  {
   "cell_type": "markdown",
   "metadata": {},
   "source": [
    "kangaroo"
   ]
  },
  {
   "cell_type": "code",
   "execution_count": 222,
   "metadata": {},
   "outputs": [
    {
     "data": {
      "text/plain": [
       "(174470, 6)"
      ]
     },
     "execution_count": 222,
     "metadata": {},
     "output_type": "execute_result"
    }
   ],
   "source": [
    "kangaroo_dataset.shape"
   ]
  },
  {
   "cell_type": "code",
   "execution_count": 223,
   "metadata": {},
   "outputs": [],
   "source": [
    "preprocessed_kangaroo = kangaroo_dataset['drawing'].iloc[0:20000].apply(doodle_to_raster)\n",
    "kangaroo_labels = np.full((20000, 1),15)\n"
   ]
  },
  {
   "cell_type": "code",
   "execution_count": 224,
   "metadata": {},
   "outputs": [],
   "source": [
    "preprocessed_kangaroo_dataset = pd.DataFrame(preprocessed_kangaroo)\n",
    "preprocessed_kangaroo_dataset.insert(1, \"label\", kangaroo_labels)"
   ]
  },
  {
   "cell_type": "code",
   "execution_count": 225,
   "metadata": {},
   "outputs": [],
   "source": [
    "np_kangaroo = preprocessed_kangaroo_dataset.to_numpy()\n",
    "np.save('kangaroo.npy', np_kangaroo)"
   ]
  },
  {
   "cell_type": "markdown",
   "metadata": {},
   "source": [
    "lion"
   ]
  },
  {
   "cell_type": "code",
   "execution_count": 226,
   "metadata": {},
   "outputs": [
    {
     "data": {
      "text/plain": [
       "(120949, 6)"
      ]
     },
     "execution_count": 226,
     "metadata": {},
     "output_type": "execute_result"
    }
   ],
   "source": [
    "lion_dataset.shape"
   ]
  },
  {
   "cell_type": "code",
   "execution_count": 227,
   "metadata": {},
   "outputs": [],
   "source": [
    "preprocessed_lion = lion_dataset['drawing'].iloc[0:20000].apply(doodle_to_raster)\n",
    "lion_labels = np.full((20000, 1),16)\n"
   ]
  },
  {
   "cell_type": "code",
   "execution_count": 228,
   "metadata": {},
   "outputs": [],
   "source": [
    "preprocessed_lion_dataset = pd.DataFrame(preprocessed_lion)\n",
    "preprocessed_lion_dataset.insert(1, \"label\", lion_labels)"
   ]
  },
  {
   "cell_type": "code",
   "execution_count": 229,
   "metadata": {},
   "outputs": [],
   "source": [
    "np_lion = preprocessed_lion_dataset.to_numpy()\n",
    "np.save('lion.npy', np_lion)"
   ]
  },
  {
   "cell_type": "markdown",
   "metadata": {},
   "source": [
    "lobster"
   ]
  },
  {
   "cell_type": "code",
   "execution_count": 230,
   "metadata": {},
   "outputs": [
    {
     "data": {
      "text/plain": [
       "(140175, 6)"
      ]
     },
     "execution_count": 230,
     "metadata": {},
     "output_type": "execute_result"
    }
   ],
   "source": [
    "lobster_dataset.shape"
   ]
  },
  {
   "cell_type": "code",
   "execution_count": 231,
   "metadata": {},
   "outputs": [],
   "source": [
    "preprocessed_lobster = lobster_dataset['drawing'].iloc[0:20000].apply(doodle_to_raster)\n",
    "lobster_labels = np.full((20000, 1),17)\n"
   ]
  },
  {
   "cell_type": "code",
   "execution_count": 233,
   "metadata": {},
   "outputs": [],
   "source": [
    "preprocessed_lobster_dataset = pd.DataFrame(preprocessed_lobster)\n",
    "preprocessed_lobster_dataset.insert(1, \"label\", lobster_labels)"
   ]
  },
  {
   "cell_type": "code",
   "execution_count": 234,
   "metadata": {},
   "outputs": [],
   "source": [
    "np_lobster = preprocessed_lobster_dataset.to_numpy()\n",
    "np.save('lobster.npy', np_lobster)"
   ]
  },
  {
   "cell_type": "markdown",
   "metadata": {},
   "source": [
    "monkey"
   ]
  },
  {
   "cell_type": "code",
   "execution_count": 235,
   "metadata": {},
   "outputs": [
    {
     "data": {
      "text/plain": [
       "(127633, 6)"
      ]
     },
     "execution_count": 235,
     "metadata": {},
     "output_type": "execute_result"
    }
   ],
   "source": [
    "monkey_dataset.shape"
   ]
  },
  {
   "cell_type": "code",
   "execution_count": 236,
   "metadata": {},
   "outputs": [],
   "source": [
    "preprocessed_monkey = monkey_dataset['drawing'].iloc[0:20000].apply(doodle_to_raster)\n",
    "monkey_labels = np.full((20000, 1),18)\n"
   ]
  },
  {
   "cell_type": "code",
   "execution_count": 237,
   "metadata": {},
   "outputs": [],
   "source": [
    "preprocessed_monkey_dataset = pd.DataFrame(preprocessed_monkey)\n",
    "preprocessed_monkey_dataset.insert(1, \"label\", monkey_labels)"
   ]
  },
  {
   "cell_type": "code",
   "execution_count": 238,
   "metadata": {},
   "outputs": [],
   "source": [
    "np_monkey = preprocessed_monkey_dataset.to_numpy()\n",
    "np.save('monkey.npy', np_monkey)"
   ]
  },
  {
   "cell_type": "markdown",
   "metadata": {},
   "source": [
    "mosquito"
   ]
  },
  {
   "cell_type": "code",
   "execution_count": 239,
   "metadata": {},
   "outputs": [
    {
     "data": {
      "text/plain": [
       "(123029, 6)"
      ]
     },
     "execution_count": 239,
     "metadata": {},
     "output_type": "execute_result"
    }
   ],
   "source": [
    "mosquito_dataset.shape"
   ]
  },
  {
   "cell_type": "code",
   "execution_count": 240,
   "metadata": {},
   "outputs": [],
   "source": [
    "preprocessed_mosquito = mosquito_dataset['drawing'].iloc[0:20000].apply(doodle_to_raster)\n",
    "mosquito_labels = np.full((20000, 1),19)\n"
   ]
  },
  {
   "cell_type": "code",
   "execution_count": 241,
   "metadata": {},
   "outputs": [],
   "source": [
    "preprocessed_mosquito_dataset = pd.DataFrame(preprocessed_mosquito)\n",
    "preprocessed_mosquito_dataset.insert(1, \"label\", mosquito_labels)"
   ]
  },
  {
   "cell_type": "code",
   "execution_count": 242,
   "metadata": {},
   "outputs": [],
   "source": [
    "np_mosquito = preprocessed_mosquito_dataset.to_numpy()\n",
    "np.save('mosquito.npy', np_mosquito)"
   ]
  },
  {
   "cell_type": "markdown",
   "metadata": {},
   "source": [
    "#### 21 to 30"
   ]
  },
  {
   "cell_type": "markdown",
   "metadata": {},
   "source": [
    "list of animals : \n",
    "mouse.npy\n",
    "octopus.npy\n",
    "owl.npy\n",
    "panda.npy\n",
    "parrot.npy\n",
    "penguin.npy\n",
    "pig.npy\n",
    "rabbit.npy\n",
    "raccoon.npy\n",
    "rhinoceros.npy"
   ]
  },
  {
   "cell_type": "markdown",
   "metadata": {},
   "source": [
    "mouse"
   ]
  },
  {
   "cell_type": "code",
   "execution_count": 10,
   "metadata": {},
   "outputs": [
    {
     "data": {
      "text/plain": [
       "(178826, 6)"
      ]
     },
     "execution_count": 10,
     "metadata": {},
     "output_type": "execute_result"
    }
   ],
   "source": [
    "mouse_dataset.shape"
   ]
  },
  {
   "cell_type": "code",
   "execution_count": 11,
   "metadata": {},
   "outputs": [],
   "source": [
    "preprocessed_mouse = mouse_dataset['drawing'].iloc[0:20000].apply(doodle_to_raster)\n",
    "mouse_labels = np.full((20000, 1),20)\n"
   ]
  },
  {
   "cell_type": "code",
   "execution_count": 12,
   "metadata": {},
   "outputs": [],
   "source": [
    "preprocessed_mouse_dataset = pd.DataFrame(preprocessed_mouse)\n",
    "preprocessed_mouse_dataset.insert(1, \"label\", mouse_labels)"
   ]
  },
  {
   "cell_type": "code",
   "execution_count": 13,
   "metadata": {},
   "outputs": [],
   "source": [
    "np_mouse = preprocessed_mouse_dataset.to_numpy()\n",
    "np.save('mouse.npy', np_mouse)"
   ]
  },
  {
   "cell_type": "markdown",
   "metadata": {},
   "source": [
    "octopus"
   ]
  },
  {
   "cell_type": "code",
   "execution_count": 14,
   "metadata": {},
   "outputs": [
    {
     "data": {
      "text/plain": [
       "(150152, 6)"
      ]
     },
     "execution_count": 14,
     "metadata": {},
     "output_type": "execute_result"
    }
   ],
   "source": [
    "octopus_dataset.shape"
   ]
  },
  {
   "cell_type": "code",
   "execution_count": 15,
   "metadata": {},
   "outputs": [],
   "source": [
    "preprocessed_octopus = octopus_dataset['drawing'].iloc[0:20000].apply(doodle_to_raster)\n",
    "octopus_labels = np.full((20000, 1),21)\n"
   ]
  },
  {
   "cell_type": "code",
   "execution_count": 16,
   "metadata": {},
   "outputs": [],
   "source": [
    "preprocessed_octopus_dataset = pd.DataFrame(preprocessed_octopus)\n",
    "preprocessed_octopus_dataset.insert(1, \"label\", octopus_labels)"
   ]
  },
  {
   "cell_type": "code",
   "execution_count": 17,
   "metadata": {},
   "outputs": [],
   "source": [
    "np_octopus = preprocessed_octopus_dataset.to_numpy()\n",
    "np.save('octopus.npy', np_octopus)"
   ]
  },
  {
   "cell_type": "markdown",
   "metadata": {},
   "source": [
    "owl"
   ]
  },
  {
   "cell_type": "code",
   "execution_count": 18,
   "metadata": {},
   "outputs": [
    {
     "data": {
      "text/plain": [
       "(169632, 6)"
      ]
     },
     "execution_count": 18,
     "metadata": {},
     "output_type": "execute_result"
    }
   ],
   "source": [
    "owl_dataset.shape"
   ]
  },
  {
   "cell_type": "code",
   "execution_count": 19,
   "metadata": {},
   "outputs": [],
   "source": [
    "preprocessed_owl = owl_dataset['drawing'].iloc[0:20000].apply(doodle_to_raster)\n",
    "owl_labels = np.full((20000, 1),22)\n"
   ]
  },
  {
   "cell_type": "code",
   "execution_count": 20,
   "metadata": {},
   "outputs": [],
   "source": [
    "preprocessed_owl_dataset = pd.DataFrame(preprocessed_owl)\n",
    "preprocessed_owl_dataset.insert(1, \"label\", owl_labels)"
   ]
  },
  {
   "cell_type": "code",
   "execution_count": 21,
   "metadata": {},
   "outputs": [],
   "source": [
    "np_owl = preprocessed_owl_dataset.to_numpy()\n",
    "np.save('owl.npy', np_owl)"
   ]
  },
  {
   "cell_type": "markdown",
   "metadata": {},
   "source": [
    "panda"
   ]
  },
  {
   "cell_type": "code",
   "execution_count": 22,
   "metadata": {},
   "outputs": [
    {
     "data": {
      "text/plain": [
       "(113613, 6)"
      ]
     },
     "execution_count": 22,
     "metadata": {},
     "output_type": "execute_result"
    }
   ],
   "source": [
    "panda_dataset.shape"
   ]
  },
  {
   "cell_type": "code",
   "execution_count": 23,
   "metadata": {},
   "outputs": [],
   "source": [
    "preprocessed_panda = panda_dataset['drawing'].iloc[0:20000].apply(doodle_to_raster)\n",
    "panda_labels = np.full((20000, 1),23)\n"
   ]
  },
  {
   "cell_type": "code",
   "execution_count": 24,
   "metadata": {},
   "outputs": [],
   "source": [
    "preprocessed_panda_dataset = pd.DataFrame(preprocessed_panda)\n",
    "preprocessed_panda_dataset.insert(1, \"label\", panda_labels)"
   ]
  },
  {
   "cell_type": "code",
   "execution_count": 25,
   "metadata": {},
   "outputs": [],
   "source": [
    "np_panda = preprocessed_panda_dataset.to_numpy()\n",
    "np.save('panda.npy', np_panda)"
   ]
  },
  {
   "cell_type": "markdown",
   "metadata": {},
   "source": [
    "parrot"
   ]
  },
  {
   "cell_type": "code",
   "execution_count": 26,
   "metadata": {},
   "outputs": [
    {
     "data": {
      "text/plain": [
       "(185530, 6)"
      ]
     },
     "execution_count": 26,
     "metadata": {},
     "output_type": "execute_result"
    }
   ],
   "source": [
    "parrot_dataset.shape"
   ]
  },
  {
   "cell_type": "code",
   "execution_count": 27,
   "metadata": {},
   "outputs": [],
   "source": [
    "preprocessed_parrot = parrot_dataset['drawing'].iloc[0:20000].apply(doodle_to_raster)\n",
    "parrot_labels = np.full((20000, 1),24)\n"
   ]
  },
  {
   "cell_type": "code",
   "execution_count": 28,
   "metadata": {},
   "outputs": [],
   "source": [
    "preprocessed_parrot_dataset = pd.DataFrame(preprocessed_parrot)\n",
    "preprocessed_parrot_dataset.insert(1, \"label\", parrot_labels)"
   ]
  },
  {
   "cell_type": "code",
   "execution_count": 29,
   "metadata": {},
   "outputs": [],
   "source": [
    "np_parrot = preprocessed_parrot_dataset.to_numpy()\n",
    "np.save('parrot.npy', np_parrot)"
   ]
  },
  {
   "cell_type": "markdown",
   "metadata": {},
   "source": [
    "penguin"
   ]
  },
  {
   "cell_type": "code",
   "execution_count": 30,
   "metadata": {},
   "outputs": [
    {
     "data": {
      "text/plain": [
       "(253791, 6)"
      ]
     },
     "execution_count": 30,
     "metadata": {},
     "output_type": "execute_result"
    }
   ],
   "source": [
    "penguin_dataset.shape"
   ]
  },
  {
   "cell_type": "code",
   "execution_count": 31,
   "metadata": {},
   "outputs": [],
   "source": [
    "preprocessed_penguin = penguin_dataset['drawing'].iloc[0:20000].apply(doodle_to_raster)\n",
    "penguin_labels = np.full((20000, 1),25)\n"
   ]
  },
  {
   "cell_type": "code",
   "execution_count": 32,
   "metadata": {},
   "outputs": [],
   "source": [
    "preprocessed_penguin_dataset = pd.DataFrame(preprocessed_penguin)\n",
    "preprocessed_penguin_dataset.insert(1, \"label\", penguin_labels)"
   ]
  },
  {
   "cell_type": "code",
   "execution_count": 33,
   "metadata": {},
   "outputs": [],
   "source": [
    "np_penguin = preprocessed_penguin_dataset.to_numpy()\n",
    "np.save('penguin.npy', np_penguin)"
   ]
  },
  {
   "cell_type": "markdown",
   "metadata": {},
   "source": [
    "pig"
   ]
  },
  {
   "cell_type": "code",
   "execution_count": 34,
   "metadata": {},
   "outputs": [
    {
     "data": {
      "text/plain": [
       "(186770, 6)"
      ]
     },
     "execution_count": 34,
     "metadata": {},
     "output_type": "execute_result"
    }
   ],
   "source": [
    "pig_dataset.shape"
   ]
  },
  {
   "cell_type": "code",
   "execution_count": 35,
   "metadata": {},
   "outputs": [],
   "source": [
    "preprocessed_pig = pig_dataset['drawing'].iloc[0:20000].apply(doodle_to_raster)\n",
    "pig_labels = np.full((20000, 1),26)\n"
   ]
  },
  {
   "cell_type": "code",
   "execution_count": 36,
   "metadata": {},
   "outputs": [],
   "source": [
    "preprocessed_pig_dataset = pd.DataFrame(preprocessed_pig)\n",
    "preprocessed_pig_dataset.insert(1, \"label\", pig_labels)"
   ]
  },
  {
   "cell_type": "code",
   "execution_count": 37,
   "metadata": {},
   "outputs": [],
   "source": [
    "np_pig = preprocessed_pig_dataset.to_numpy()\n",
    "np.save('pig.npy', np_pig)"
   ]
  },
  {
   "cell_type": "markdown",
   "metadata": {},
   "source": [
    "rabbit"
   ]
  },
  {
   "cell_type": "code",
   "execution_count": 38,
   "metadata": {},
   "outputs": [
    {
     "data": {
      "text/plain": [
       "(155288, 6)"
      ]
     },
     "execution_count": 38,
     "metadata": {},
     "output_type": "execute_result"
    }
   ],
   "source": [
    "rabbit_dataset.shape"
   ]
  },
  {
   "cell_type": "code",
   "execution_count": 39,
   "metadata": {},
   "outputs": [],
   "source": [
    "preprocessed_rabbit = rabbit_dataset['drawing'].iloc[0:20000].apply(doodle_to_raster)\n",
    "rabbit_labels = np.full((20000, 1),27)\n"
   ]
  },
  {
   "cell_type": "code",
   "execution_count": 40,
   "metadata": {},
   "outputs": [],
   "source": [
    "preprocessed_rabbit_dataset = pd.DataFrame(preprocessed_rabbit)\n",
    "preprocessed_rabbit_dataset.insert(1, \"label\", rabbit_labels)"
   ]
  },
  {
   "cell_type": "code",
   "execution_count": 41,
   "metadata": {},
   "outputs": [],
   "source": [
    "np_rabbit = preprocessed_rabbit_dataset.to_numpy()\n",
    "np.save('rabbit.npy', np_rabbit)"
   ]
  },
  {
   "cell_type": "markdown",
   "metadata": {},
   "source": [
    "racoon"
   ]
  },
  {
   "cell_type": "code",
   "execution_count": 42,
   "metadata": {},
   "outputs": [
    {
     "data": {
      "text/plain": [
       "(119588, 6)"
      ]
     },
     "execution_count": 42,
     "metadata": {},
     "output_type": "execute_result"
    }
   ],
   "source": [
    "raccoon_dataset.shape"
   ]
  },
  {
   "cell_type": "code",
   "execution_count": 43,
   "metadata": {},
   "outputs": [],
   "source": [
    "preprocessed_raccoon = raccoon_dataset['drawing'].iloc[0:20000].apply(doodle_to_raster)\n",
    "raccoon_labels = np.full((20000, 1),28)\n"
   ]
  },
  {
   "cell_type": "code",
   "execution_count": 44,
   "metadata": {},
   "outputs": [],
   "source": [
    "preprocessed_raccoon_dataset = pd.DataFrame(preprocessed_raccoon)\n",
    "preprocessed_raccoon_dataset.insert(1, \"label\", raccoon_labels)"
   ]
  },
  {
   "cell_type": "code",
   "execution_count": 45,
   "metadata": {},
   "outputs": [],
   "source": [
    "np_raccoon = preprocessed_raccoon_dataset.to_numpy()\n",
    "np.save('raccoon.npy', np_raccoon)"
   ]
  },
  {
   "cell_type": "markdown",
   "metadata": {},
   "source": [
    "rhinoceros"
   ]
  },
  {
   "cell_type": "code",
   "execution_count": 46,
   "metadata": {},
   "outputs": [
    {
     "data": {
      "text/plain": [
       "(188484, 6)"
      ]
     },
     "execution_count": 46,
     "metadata": {},
     "output_type": "execute_result"
    }
   ],
   "source": [
    "rhinoceros_dataset.shape"
   ]
  },
  {
   "cell_type": "code",
   "execution_count": 47,
   "metadata": {},
   "outputs": [],
   "source": [
    "preprocessed_rhinoceros = rhinoceros_dataset['drawing'].iloc[0:20000].apply(doodle_to_raster)\n",
    "rhinoceros_labels = np.full((20000, 1),29)\n"
   ]
  },
  {
   "cell_type": "code",
   "execution_count": 48,
   "metadata": {},
   "outputs": [],
   "source": [
    "preprocessed_rhinoceros_dataset = pd.DataFrame(preprocessed_rhinoceros)\n",
    "preprocessed_rhinoceros_dataset.insert(1, \"label\", rhinoceros_labels)"
   ]
  },
  {
   "cell_type": "code",
   "execution_count": 49,
   "metadata": {},
   "outputs": [],
   "source": [
    "np_rhinoceros = preprocessed_rhinoceros_dataset.to_numpy()\n",
    "np.save('rhinoceros.npy', np_rhinoceros)"
   ]
  },
  {
   "cell_type": "markdown",
   "metadata": {},
   "source": [
    "#### 31 to 40"
   ]
  },
  {
   "cell_type": "markdown",
   "metadata": {},
   "source": [
    "list of animals : \n",
    "scorpion.npy\n",
    "sea_turtle.npy\n",
    "sheep.npy\n",
    "snail.npy\n",
    "snake.npy\n",
    "spider.npy\n",
    "squirrel.npy\n",
    "swan.npy\n",
    "tiger.npy\n",
    "whale.npy"
   ]
  },
  {
   "cell_type": "markdown",
   "metadata": {},
   "source": [
    "scorpion"
   ]
  },
  {
   "cell_type": "code",
   "execution_count": 50,
   "metadata": {},
   "outputs": [
    {
     "data": {
      "text/plain": [
       "(165689, 6)"
      ]
     },
     "execution_count": 50,
     "metadata": {},
     "output_type": "execute_result"
    }
   ],
   "source": [
    "scorpion_dataset.shape"
   ]
  },
  {
   "cell_type": "code",
   "execution_count": 51,
   "metadata": {},
   "outputs": [],
   "source": [
    "preprocessed_scorpion = scorpion_dataset['drawing'].iloc[0:20000].apply(doodle_to_raster)\n",
    "scorpion_labels = np.full((20000, 1),30)\n"
   ]
  },
  {
   "cell_type": "code",
   "execution_count": 52,
   "metadata": {},
   "outputs": [],
   "source": [
    "preprocessed_scorpion_dataset = pd.DataFrame(preprocessed_scorpion)\n",
    "preprocessed_scorpion_dataset.insert(1, \"label\", scorpion_labels)"
   ]
  },
  {
   "cell_type": "code",
   "execution_count": 53,
   "metadata": {},
   "outputs": [],
   "source": [
    "np_scorpion = preprocessed_scorpion_dataset.to_numpy()\n",
    "np.save('scorpion.npy', np_scorpion)"
   ]
  },
  {
   "cell_type": "markdown",
   "metadata": {},
   "source": [
    "sea turtle"
   ]
  },
  {
   "cell_type": "code",
   "execution_count": 54,
   "metadata": {},
   "outputs": [
    {
     "data": {
      "text/plain": [
       "(119876, 6)"
      ]
     },
     "execution_count": 54,
     "metadata": {},
     "output_type": "execute_result"
    }
   ],
   "source": [
    "sea_turtle_dataset.shape"
   ]
  },
  {
   "cell_type": "code",
   "execution_count": 55,
   "metadata": {},
   "outputs": [],
   "source": [
    "preprocessed_sea_turtle = sea_turtle_dataset['drawing'].iloc[0:20000].apply(doodle_to_raster)\n",
    "sea_turtle_labels = np.full((20000, 1),31)\n"
   ]
  },
  {
   "cell_type": "code",
   "execution_count": 56,
   "metadata": {},
   "outputs": [],
   "source": [
    "preprocessed_sea_turtle_dataset = pd.DataFrame(preprocessed_sea_turtle)\n",
    "preprocessed_sea_turtle_dataset.insert(1, \"label\", sea_turtle_labels)"
   ]
  },
  {
   "cell_type": "code",
   "execution_count": 57,
   "metadata": {},
   "outputs": [],
   "source": [
    "np_sea_turtle = preprocessed_sea_turtle_dataset.to_numpy()\n",
    "np.save('sea_turtle.npy', np_sea_turtle)"
   ]
  },
  {
   "cell_type": "markdown",
   "metadata": {},
   "source": [
    "sheep"
   ]
  },
  {
   "cell_type": "code",
   "execution_count": 58,
   "metadata": {},
   "outputs": [
    {
     "data": {
      "text/plain": [
       "(126121, 6)"
      ]
     },
     "execution_count": 58,
     "metadata": {},
     "output_type": "execute_result"
    }
   ],
   "source": [
    "sheep_dataset.shape"
   ]
  },
  {
   "cell_type": "code",
   "execution_count": 59,
   "metadata": {},
   "outputs": [],
   "source": [
    "preprocessed_sheep = sheep_dataset['drawing'].iloc[0:20000].apply(doodle_to_raster)\n",
    "sheep_labels = np.full((20000, 1),32)\n"
   ]
  },
  {
   "cell_type": "code",
   "execution_count": 60,
   "metadata": {},
   "outputs": [],
   "source": [
    "preprocessed_sheep_dataset = pd.DataFrame(preprocessed_sheep)\n",
    "preprocessed_sheep_dataset.insert(1, \"label\", sheep_labels)"
   ]
  },
  {
   "cell_type": "code",
   "execution_count": 61,
   "metadata": {},
   "outputs": [],
   "source": [
    "np_sheep = preprocessed_sheep_dataset.to_numpy()\n",
    "np.save('sheep.npy', np_sheep)"
   ]
  },
  {
   "cell_type": "markdown",
   "metadata": {},
   "source": [
    "snail"
   ]
  },
  {
   "cell_type": "code",
   "execution_count": 62,
   "metadata": {},
   "outputs": [
    {
     "data": {
      "text/plain": [
       "(133757, 6)"
      ]
     },
     "execution_count": 62,
     "metadata": {},
     "output_type": "execute_result"
    }
   ],
   "source": [
    "snail_dataset.shape"
   ]
  },
  {
   "cell_type": "code",
   "execution_count": 63,
   "metadata": {},
   "outputs": [],
   "source": [
    "preprocessed_snail = snail_dataset['drawing'].iloc[0:20000].apply(doodle_to_raster)\n",
    "snail_labels = np.full((20000, 1),33)\n"
   ]
  },
  {
   "cell_type": "code",
   "execution_count": 64,
   "metadata": {},
   "outputs": [],
   "source": [
    "preprocessed_snail_dataset = pd.DataFrame(preprocessed_snail)\n",
    "preprocessed_snail_dataset.insert(1, \"label\", snail_labels)"
   ]
  },
  {
   "cell_type": "code",
   "execution_count": 65,
   "metadata": {},
   "outputs": [],
   "source": [
    "np_snail = preprocessed_snail_dataset.to_numpy()\n",
    "np.save('snail.npy', np_snail)"
   ]
  },
  {
   "cell_type": "markdown",
   "metadata": {},
   "source": [
    "snake"
   ]
  },
  {
   "cell_type": "code",
   "execution_count": 66,
   "metadata": {},
   "outputs": [
    {
     "data": {
      "text/plain": [
       "(122273, 6)"
      ]
     },
     "execution_count": 66,
     "metadata": {},
     "output_type": "execute_result"
    }
   ],
   "source": [
    "snake_dataset.shape"
   ]
  },
  {
   "cell_type": "code",
   "execution_count": 67,
   "metadata": {},
   "outputs": [],
   "source": [
    "preprocessed_snake = snake_dataset['drawing'].iloc[0:20000].apply(doodle_to_raster)\n",
    "snake_labels = np.full((20000, 1),34)\n"
   ]
  },
  {
   "cell_type": "code",
   "execution_count": 68,
   "metadata": {},
   "outputs": [],
   "source": [
    "preprocessed_snake_dataset = pd.DataFrame(preprocessed_snake)\n",
    "preprocessed_snake_dataset.insert(1, \"label\", snake_labels)"
   ]
  },
  {
   "cell_type": "code",
   "execution_count": 69,
   "metadata": {},
   "outputs": [],
   "source": [
    "np_snake = preprocessed_snake_dataset.to_numpy()\n",
    "np.save('snake.npy', np_snake)"
   ]
  },
  {
   "cell_type": "markdown",
   "metadata": {},
   "source": [
    "spider"
   ]
  },
  {
   "cell_type": "code",
   "execution_count": 70,
   "metadata": {},
   "outputs": [
    {
     "data": {
      "text/plain": [
       "(209447, 6)"
      ]
     },
     "execution_count": 70,
     "metadata": {},
     "output_type": "execute_result"
    }
   ],
   "source": [
    "spider_dataset.shape"
   ]
  },
  {
   "cell_type": "code",
   "execution_count": 71,
   "metadata": {},
   "outputs": [],
   "source": [
    "preprocessed_spider = spider_dataset['drawing'].iloc[0:20000].apply(doodle_to_raster)\n",
    "spider_labels = np.full((20000, 1),35)\n"
   ]
  },
  {
   "cell_type": "code",
   "execution_count": 72,
   "metadata": {},
   "outputs": [],
   "source": [
    "preprocessed_spider_dataset = pd.DataFrame(preprocessed_spider)\n",
    "preprocessed_spider_dataset.insert(1, \"label\", spider_labels)"
   ]
  },
  {
   "cell_type": "code",
   "execution_count": 73,
   "metadata": {},
   "outputs": [],
   "source": [
    "np_spider = preprocessed_spider_dataset.to_numpy()\n",
    "np.save('spider.npy', np_spider)"
   ]
  },
  {
   "cell_type": "markdown",
   "metadata": {},
   "source": [
    "squirrel"
   ]
  },
  {
   "cell_type": "code",
   "execution_count": 74,
   "metadata": {},
   "outputs": [
    {
     "data": {
      "text/plain": [
       "(156883, 6)"
      ]
     },
     "execution_count": 74,
     "metadata": {},
     "output_type": "execute_result"
    }
   ],
   "source": [
    "squirrel_dataset.shape"
   ]
  },
  {
   "cell_type": "code",
   "execution_count": 75,
   "metadata": {},
   "outputs": [],
   "source": [
    "preprocessed_squirrel = squirrel_dataset['drawing'].iloc[0:20000].apply(doodle_to_raster)\n",
    "squirrel_labels = np.full((20000, 1),36)\n"
   ]
  },
  {
   "cell_type": "code",
   "execution_count": 76,
   "metadata": {},
   "outputs": [],
   "source": [
    "preprocessed_squirrel_dataset = pd.DataFrame(preprocessed_squirrel)\n",
    "preprocessed_squirrel_dataset.insert(1, \"label\", squirrel_labels)"
   ]
  },
  {
   "cell_type": "code",
   "execution_count": 77,
   "metadata": {},
   "outputs": [],
   "source": [
    "np_squirrel = preprocessed_squirrel_dataset.to_numpy()\n",
    "np.save('squirrel.npy', np_squirrel)"
   ]
  },
  {
   "cell_type": "markdown",
   "metadata": {},
   "source": [
    "swan"
   ]
  },
  {
   "cell_type": "code",
   "execution_count": 78,
   "metadata": {},
   "outputs": [
    {
     "data": {
      "text/plain": [
       "(152088, 6)"
      ]
     },
     "execution_count": 78,
     "metadata": {},
     "output_type": "execute_result"
    }
   ],
   "source": [
    "swan_dataset.shape"
   ]
  },
  {
   "cell_type": "code",
   "execution_count": 79,
   "metadata": {},
   "outputs": [],
   "source": [
    "preprocessed_swan = swan_dataset['drawing'].iloc[0:20000].apply(doodle_to_raster)\n",
    "swan_labels = np.full((20000, 1),37)\n"
   ]
  },
  {
   "cell_type": "code",
   "execution_count": 80,
   "metadata": {},
   "outputs": [],
   "source": [
    "preprocessed_swan_dataset = pd.DataFrame(preprocessed_swan)\n",
    "preprocessed_swan_dataset.insert(1, \"label\", swan_labels)"
   ]
  },
  {
   "cell_type": "code",
   "execution_count": 81,
   "metadata": {},
   "outputs": [],
   "source": [
    "np_swan = preprocessed_swan_dataset.to_numpy()\n",
    "np.save('swan.npy', np_swan)"
   ]
  },
  {
   "cell_type": "markdown",
   "metadata": {},
   "source": [
    "tiger"
   ]
  },
  {
   "cell_type": "code",
   "execution_count": 82,
   "metadata": {},
   "outputs": [
    {
     "data": {
      "text/plain": [
       "(121067, 6)"
      ]
     },
     "execution_count": 82,
     "metadata": {},
     "output_type": "execute_result"
    }
   ],
   "source": [
    "tiger_dataset.shape"
   ]
  },
  {
   "cell_type": "code",
   "execution_count": 83,
   "metadata": {},
   "outputs": [],
   "source": [
    "preprocessed_tiger = tiger_dataset['drawing'].iloc[0:20000].apply(doodle_to_raster)\n",
    "tiger_labels = np.full((20000, 1),38)\n"
   ]
  },
  {
   "cell_type": "code",
   "execution_count": 84,
   "metadata": {},
   "outputs": [],
   "source": [
    "preprocessed_tiger_dataset = pd.DataFrame(preprocessed_tiger)\n",
    "preprocessed_tiger_dataset.insert(1, \"label\", tiger_labels)"
   ]
  },
  {
   "cell_type": "code",
   "execution_count": 85,
   "metadata": {},
   "outputs": [],
   "source": [
    "np_tiger = preprocessed_tiger_dataset.to_numpy()\n",
    "np.save('tiger.npy', np_tiger)"
   ]
  },
  {
   "cell_type": "markdown",
   "metadata": {},
   "source": [
    "whale"
   ]
  },
  {
   "cell_type": "code",
   "execution_count": 86,
   "metadata": {},
   "outputs": [
    {
     "data": {
      "text/plain": [
       "(116502, 6)"
      ]
     },
     "execution_count": 86,
     "metadata": {},
     "output_type": "execute_result"
    }
   ],
   "source": [
    "whale_dataset.shape"
   ]
  },
  {
   "cell_type": "code",
   "execution_count": 87,
   "metadata": {},
   "outputs": [],
   "source": [
    "preprocessed_whale = whale_dataset['drawing'].iloc[0:20000].apply(doodle_to_raster)\n",
    "whale_labels = np.full((20000, 1),39)\n"
   ]
  },
  {
   "cell_type": "code",
   "execution_count": 88,
   "metadata": {},
   "outputs": [],
   "source": [
    "preprocessed_whale_dataset = pd.DataFrame(preprocessed_whale)\n",
    "preprocessed_whale_dataset.insert(1, \"label\", whale_labels)"
   ]
  },
  {
   "cell_type": "code",
   "execution_count": 89,
   "metadata": {},
   "outputs": [],
   "source": [
    "np_whale = preprocessed_whale_dataset.to_numpy()\n",
    "np.save('whale.npy', np_whale)"
   ]
  }
 ],
 "metadata": {
  "kernelspec": {
   "display_name": "GPU-enabled",
   "language": "python",
   "name": "gpu-enabled"
  },
  "language_info": {
   "codemirror_mode": {
    "name": "ipython",
    "version": 3
   },
   "file_extension": ".py",
   "mimetype": "text/x-python",
   "name": "python",
   "nbconvert_exporter": "python",
   "pygments_lexer": "ipython3",
   "version": "3.8.5"
  }
 },
 "nbformat": 4,
 "nbformat_minor": 4
}
